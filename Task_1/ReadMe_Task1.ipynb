{
 "cells": [
  {
   "cell_type": "markdown",
   "metadata": {},
   "source": [
    "# Advanced Programming Contribution\n",
    "\n",
    "### Task 1 of 4\n",
    "Working with NetCDF Files successfully for the first time. This task has been accomplished using R. The Script can be found within the files of the Task1-Folder."
   ]
  },
  {
   "cell_type": "markdown",
   "metadata": {},
   "source": [
    "**Visualization Function 1:** Distribution\n",
    "\n",
    "Motivation: Until now, there has always been the challenge that Northward velocity and  Eastward velocity are seperated datasets if they are looked at in QGIS. R has capabilities to join them.\n",
    "\n",
    "![](./VIS1_Ocean_Velocity.png)"
   ]
  },
  {
   "cell_type": "markdown",
   "metadata": {},
   "source": [
    "**Visualization Function 2:** Temporal Trends\n",
    "\n",
    "Displaying Suspended Matter Distribution in Europe - 2017.\n",
    "\n",
    "The applied functions can be utilized for all the different types of suspended matter mentioned in the Script. Here, the highlights are displayed.\n",
    "\n",
    "**Static**\n",
    "\n",
    "![](./VIS2_Iron.png)\n",
    "\n",
    "\n",
    "**Dynamic**\n",
    "\n",
    "![](Oxygen_2017.gif)"
   ]
  },
  {
   "cell_type": "markdown",
   "metadata": {},
   "source": [
    "**Visualization Function 3:** Overview of the Area (3D)\n",
    "\n",
    "![](./VIS3_SeaSurfaceHeightAboveGeoidInMeter.png)"
   ]
  }
 ],
 "metadata": {
  "kernelspec": {
   "display_name": "Python 3",
   "language": "python",
   "name": "python3"
  },
  "language_info": {
   "codemirror_mode": {
    "name": "ipython",
    "version": 3
   },
   "file_extension": ".py",
   "mimetype": "text/x-python",
   "name": "python",
   "nbconvert_exporter": "python",
   "pygments_lexer": "ipython3",
   "version": "3.7.3"
  }
 },
 "nbformat": 4,
 "nbformat_minor": 2
}
