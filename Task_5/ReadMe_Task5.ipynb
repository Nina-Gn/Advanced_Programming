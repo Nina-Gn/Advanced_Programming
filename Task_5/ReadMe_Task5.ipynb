{
 "cells": [
  {
   "cell_type": "markdown",
   "metadata": {},
   "source": [
    "This is a Jupyter Markdown Script to better visualize the results from GEE (see JavaScript in GEE_Task05 file). All retrieved images are attached.\n",
    "\n",
    "## Aim: Estimation of LST in South Spain / North Marokko "
   ]
  },
  {
   "cell_type": "markdown",
   "metadata": {},
   "source": [
    "Two approaches were computed. The links to them, as well as formulas can be found in the JavaScript. One decisive difference is that the first approach integrates the NDVI and with it band 4 and 5, while approach 2 uses the $10^{th}$ or $11^{th}$ band only. In any case, the results are quite promising. During processing, following steps were made:\n",
    "\n",
    "### 1 - Uploading Data\n",
    "    * importing ALL captured Landsat images from January (dataset_1) and June (dataset_2)\n",
    "    * processing the mean values for Januar and June to retrieve two single images to work on\n",
    "    * creating RGB images and exporting them (for visualization)"
   ]
  },
  {
   "cell_type": "markdown",
   "metadata": {},
   "source": [
    "**RGB image in June:**\n",
    "![](imageRGB_June.png)"
   ]
  },
  {
   "cell_type": "markdown",
   "metadata": {},
   "source": [
    "### 2 - Approach 1: Calculating LST\n",
    "\n",
    "* using band 10, 5 & 4\n",
    "\n",
    "#### 2.1 - Conversion to TOA Radiance $L_{λ}$\n",
    "* $L_{λ}$ = $M_{L}$ * $Q_{cal}$ + $A_{L}$\n",
    "\n",
    "#### 2.2 - Conversion to Top of Atmosphere Brightness Temperature \n",
    "* BT = ($K_{2}$ / (ln ($K_{1}$ / L + 1)) − 273.15     *  in °C  and Math.log() = ln(), for ee.Images this means ee.Image.log()\n",
    "\n",
    "#### 2.3 - NDVI\n",
    "* NDVI = Float(Band 5 (NIR) – Band 4 (RED)) / Float(Band 5 + Band 4)\n",
    "\n",
    "#### 2.4 - Calculate the Proportion of Vegetation Pv\n",
    "* Pv = $((NDVI – NDVImin) / (NDVImax – NDVImin))^{2}$\n",
    "\n",
    "NDVImax_Jan = 0.5535589898584433;\n",
    "NDVImin_Jan = -0.15428179949760223;\n",
    "\n",
    "NDVImax_June = 0.6171196936161747; \n",
    "NDVImin_June = -0.2206732158335741; --> June has a bigger range"
   ]
  },
  {
   "cell_type": "markdown",
   "metadata": {},
   "source": [
    "**Proportion of Vegetation (Pv) in June:** \n",
    "![](./Pv_June.png)\n",
    "\n",
    "Maximum Value: 0,43 (red)\n",
    "\n",
    "Minimum Value: 0 (blue)\n",
    "\n",
    "Mean: 0.15"
   ]
  },
  {
   "cell_type": "markdown",
   "metadata": {},
   "source": [
    "#### 2.5 - Calculate Emissivity ε\n",
    "* ε = 0.004 * $P_{v}$ + 0.986\n",
    "\n",
    "#### 2.6 - Calculate the Land Surface Temperature\n",
    "* LST = BT / (1 + (0.00115 * BT / 1.4388) * Ln(ε))"
   ]
  },
  {
   "cell_type": "markdown",
   "metadata": {},
   "source": [
    "**Approach 1: Land Surface Temperature:**\n",
    "\n",
    "**January**\n",
    "\n",
    "![](./LST_Jan_A1.png)\n",
    "\n",
    "Maximum Value: 17.32 (red)\n",
    "\n",
    "Minimum Value: 6.76 (blue)\n",
    "\n",
    "Mean: 12.04\n",
    "\n",
    "**June**\n",
    "![](./LST_June_A1.png)\n",
    "\n",
    "Maximum Value: 38.39 (red)\n",
    "\n",
    "Minimum Value: -19.02 (blue)\n",
    "\n",
    "Mean: 13.18"
   ]
  },
  {
   "cell_type": "markdown",
   "metadata": {},
   "source": [
    "### 3 - Approach 2: Calculating LST\n",
    "\n",
    "* using band 10 and 11 only\n",
    "\n",
    "####  3.1 DN to TOA reflectance\n",
    " \n",
    "* TOA = RADIANCE_MULT_BAND_10 * band_10 + RADIANCE_ADD_BAND_10 \n",
    "\n",
    "####  3.2 Conversion to At-Satellite Brightness Temperature (here: in Celsius)\n",
    "\n",
    "* LST = ( K2_CONSTANT_BAND_10 / log( K1_CONSTANT_BAND_10 / band_10 + 1 ) ) - 273.15\n"
   ]
  },
  {
   "cell_type": "markdown",
   "metadata": {},
   "source": [
    "**Approach 2: Land Surface Temperature:**\n",
    "\n",
    "**January**\n",
    "\n",
    "![](./LST10_Jan_A2.png)\n",
    "\n",
    "Maximum Value: 17.32 (red)\n",
    "\n",
    "Minimum Value: 6.76 (blue)\n",
    "\n",
    "Mean: 12.04\n",
    "\n",
    "**January**\n",
    "\n",
    "![](./LST11_Jan_A2.png)\n",
    "\n",
    "Maximum Value: 15.97 (red)\n",
    "\n",
    "Minimum Value: 6.54 (blue)\n",
    "\n",
    "Mean: 11.26\n",
    "\n",
    "**June**\n",
    "![](./LST10_June_A2.png)\n",
    "\n",
    "Maximum Value: 38.38 (red)\n",
    "\n",
    "Minimum Value: -19.02 (blue)\n",
    "\n",
    "Mean: 13.17\n",
    "\n",
    "**June**\n",
    "![](./LST11_June_A2.png)\n",
    "\n",
    "Maximum Value: 34.42 (red)\n",
    "\n",
    "Minimum Value: -18.00 (blue)\n",
    "\n",
    "Mean: 11.92"
   ]
  }
 ],
 "metadata": {
  "kernelspec": {
   "display_name": "Python 3",
   "language": "python",
   "name": "python3"
  },
  "language_info": {
   "codemirror_mode": {
    "name": "ipython",
    "version": 3
   },
   "file_extension": ".py",
   "mimetype": "text/x-python",
   "name": "python",
   "nbconvert_exporter": "python",
   "pygments_lexer": "ipython3",
   "version": "3.7.3"
  }
 },
 "nbformat": 4,
 "nbformat_minor": 2
}
